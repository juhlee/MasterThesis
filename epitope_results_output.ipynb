{
 "cells": [
  {
   "cell_type": "code",
   "execution_count": 7,
   "metadata": {},
   "outputs": [],
   "source": [
    "import os\n",
    "import pandas as pd\n",
    "import numpy as np\n",
    "import re"
   ]
  },
  {
   "cell_type": "code",
   "execution_count": 1,
   "metadata": {},
   "outputs": [],
   "source": [
    "# Manual curation of which clustering threshold to use!\n",
    "\n",
    "human_host = {\"HA\": 0.98, \"NA\": 0.98, \"M1\": 0.995, \"M2\": 0.98, \"PA\": 0.99, \n",
    "              \"PB1\":0.99, \"PB2\": 0.99, \"NP\":0.99, \"NS1\":0.98, \"NS2\":0.99}\n",
    "\n",
    "avswine_host = {\"HA\": 0.95, \"NA\": 0.95, \"M1\": 0.99, \"M2\": 0.96, \"PA\": 0.97, \n",
    "                \"PB1\":0.96, \"PB2\": 0.97, \"NP\":0.96, \"NS1\":0.95, \"NS2\":0.97}\n",
    "\n",
    "avswine_tree_host = {\"HA\": 0.85, \"NA\": 0.85, \"M1\": 0.96, \"M2\": 0.91, \"PA\": 0.96, \n",
    "                     \"PB1\": 0.94, \"PB2\": 0.96, \"NP\":0.94, \"NS1\":0.88, \"NS2\":0.92}"
   ]
  },
  {
   "cell_type": "code",
   "execution_count": 2,
   "metadata": {},
   "outputs": [],
   "source": [
    "filter_cutoff = {\"HA\": 90, \"NA\": 90, \"M1\": 90, \"M2\": 90, \"PB1\":99.5, \"PB2\":99, \"NP\":95, \"NS1\":90, \"NS2\":90, \"PA\":99}"
   ]
  },
  {
   "cell_type": "code",
   "execution_count": 112,
   "metadata": {},
   "outputs": [],
   "source": [
    "prot = \"M1\"\n",
    "h_clust, avs_clust = int(human_host[prot]*100), int(avswine_host[prot]*100)"
   ]
  },
  {
   "cell_type": "code",
   "execution_count": 113,
   "metadata": {},
   "outputs": [],
   "source": [
    "h_known_epitopes = pd.read_csv(\"../sequences/epitope_conservancy/{}_AB_clust{}_conservancy.csv\".format(prot, h_clust))\n",
    "avs_known_epitopes = pd.read_csv(\"../sequences/epitope_conservancy/{}_AS_clust{}_conservancy.csv\".format(prot, avs_clust))"
   ]
  },
  {
   "cell_type": "code",
   "execution_count": 114,
   "metadata": {},
   "outputs": [],
   "source": [
    "h_known_epitopes_filter1 = h_known_epitopes.loc[h_known_epitopes[\"Fraction of 100% matching sequences (%)\"] >= 50]"
   ]
  },
  {
   "cell_type": "code",
   "execution_count": 115,
   "metadata": {},
   "outputs": [],
   "source": [
    "h_known_epitopes_filter2 = h_known_epitopes_filter1.loc[h_known_epitopes_filter1[\"Fraction of <50% matching sequences (%)\"] <= 20]"
   ]
  },
  {
   "cell_type": "code",
   "execution_count": 116,
   "metadata": {},
   "outputs": [],
   "source": [
    "avs_known_epitopes_filter1 = avs_known_epitopes.loc[avs_known_epitopes[\"Fraction of 100% matching sequences (%)\"] >= 50]"
   ]
  },
  {
   "cell_type": "code",
   "execution_count": 117,
   "metadata": {},
   "outputs": [],
   "source": [
    "avs_known_epitopes_filter2 = avs_known_epitopes_filter1.loc[avs_known_epitopes[\"Fraction of <50% matching sequences (%)\"] <= 20]"
   ]
  },
  {
   "cell_type": "code",
   "execution_count": 120,
   "metadata": {},
   "outputs": [
    {
     "data": {
      "text/plain": [
       "6"
      ]
     },
     "execution_count": 120,
     "metadata": {},
     "output_type": "execute_result"
    }
   ],
   "source": [
    "overlap_known_epitopes = []\n",
    "\n",
    "for i in h_known_epitopes_filter2['Epitope sequence']:\n",
    "    for j in avs_known_epitopes_filter2['Epitope sequence']:\n",
    "        if i == j:\n",
    "            overlap_known_epitopes.append(j)\n",
    "\n",
    "len(overlap_known_epitopes)"
   ]
  },
  {
   "cell_type": "code",
   "execution_count": 211,
   "metadata": {},
   "outputs": [],
   "source": [
    "prot = \"PA\"\n",
    "h_clust, avs_clust = int(human_host[prot]*100), int(avswine_host[prot]*100)\n",
    "\n",
    "h_exp_epitopes_table = pd.read_csv(\"../sequences/nonoverlap_candidates/{}_AB_clust{}_candidate_epitopes.csv\".format(prot, h_clust))\n",
    "avs_exp_epitopes_table = pd.read_csv(\"../sequences/nonoverlap_candidates/{}_AS_clust{}_candidate_epitopes.csv\".format(prot, avs_clust))"
   ]
  },
  {
   "cell_type": "code",
   "execution_count": 212,
   "metadata": {},
   "outputs": [],
   "source": [
    "h_exp_epitopes_table_filter1 = h_exp_epitopes_table.loc[h_exp_epitopes_table['score (%)'] >= filter_cutoff[prot]]\n",
    "avs_exp_epitopes_table_filter1 = avs_exp_epitopes_table.loc[avs_exp_epitopes_table['score (%)'] >= filter_cutoff[prot]]"
   ]
  },
  {
   "cell_type": "code",
   "execution_count": 213,
   "metadata": {},
   "outputs": [],
   "source": [
    "h_exp_epitopes = h_exp_epitopes_table_filter1['candidate sequence']\n",
    "avs_exp_epitopes = avs_exp_epitopes_table_filter1['candidate sequence']"
   ]
  },
  {
   "cell_type": "code",
   "execution_count": 214,
   "metadata": {},
   "outputs": [
    {
     "data": {
      "text/plain": [
       "89"
      ]
     },
     "execution_count": 214,
     "metadata": {},
     "output_type": "execute_result"
    }
   ],
   "source": [
    "overlap_exp_epitopes = []\n",
    "\n",
    "for hexp in h_exp_epitopes:\n",
    "    for avsexp in avs_exp_epitopes:\n",
    "        if hexp == avsexp:\n",
    "            overlap_exp_epitopes.append(avsexp)\n",
    "\n",
    "len(overlap_exp_epitopes)"
   ]
  },
  {
   "cell_type": "code",
   "execution_count": 208,
   "metadata": {},
   "outputs": [],
   "source": [
    "# make separate files according to their lengths for netMHCpan prediction\n",
    "known_mers = sorted(set(h_known_epitopes_filter2['Epitope length']))\n",
    "exp_mers = sorted(set(h_exp_epitopes_table_filter1['length']))\n",
    "\n",
    "outpath = \"../netmhc_binding_inputs/{}\".format(prot)\n",
    "if not os.path.exists(outpath):\n",
    "    os.mkdir(outpath)\n",
    "\n",
    "for mer in known_mers:\n",
    "    known_fasta = \"{}/{}_conserved_{}_mers.fa\".format(outpath, prot, mer)\n",
    "    with open(known_fasta, 'w') as output:\n",
    "        for i, seq in enumerate(h_known_epitopes_filter2['Epitope sequence']):\n",
    "            if len(seq) == mer:\n",
    "                if seq in overlap_known_epitopes:\n",
    "                    output.write(\">cons_{}_o \\n\".format(i))\n",
    "                    output.write(seq + '\\n')\n",
    "                else:\n",
    "                    output.write(\">cons_{} \\n\".format(i))\n",
    "                    output.write(seq + '\\n')\n",
    "\n",
    "for mer in exp_mers:\n",
    "    exp_fasta = \"{}/{}_exp_{}_mers.fa\".format(outpath, prot, mer)\n",
    "    with open(exp_fasta, 'w') as output:\n",
    "        for i, seq in enumerate(h_exp_epitopes_table_filter1['candidate sequence']):\n",
    "            if len(seq) == mer:\n",
    "                if seq in overlap_exp_epitopes:\n",
    "                    output.write(\">cand_{}_o \\n\".format(i))\n",
    "                    output.write(seq + '\\n')\n",
    "                else:\n",
    "                    output.write(\">cand_{} \\n\".format(i))\n",
    "                    output.write(seq + '\\n')"
   ]
  },
  {
   "cell_type": "code",
   "execution_count": null,
   "metadata": {},
   "outputs": [],
   "source": []
  }
 ],
 "metadata": {
  "interpreter": {
   "hash": "1bd06f5ea03ec233ea613593a8abdc9f0315a389ccaf2775c94be72fffa4b7be"
  },
  "kernelspec": {
   "display_name": "Python 3.8.12 64-bit ('base': conda)",
   "name": "python3"
  },
  "language_info": {
   "codemirror_mode": {
    "name": "ipython",
    "version": 3
   },
   "file_extension": ".py",
   "mimetype": "text/x-python",
   "name": "python",
   "nbconvert_exporter": "python",
   "pygments_lexer": "ipython3",
   "version": "3.8.12"
  },
  "orig_nbformat": 4
 },
 "nbformat": 4,
 "nbformat_minor": 2
}
